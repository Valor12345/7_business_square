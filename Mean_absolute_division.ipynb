{
 "cells": [
  {
   "cell_type": "code",
   "execution_count": 11,
   "id": "18f71488-17c6-4ffc-a592-2075d499eb8b",
   "metadata": {},
   "outputs": [],
   "source": [
    "import numpy as np\n",
    "import pandas as pd \n",
    "import matplotlib.pyplot as plt \n",
    "import seaborn as sns"
   ]
  },
  {
   "cell_type": "code",
   "execution_count": 15,
   "id": "cb252aef-db51-498d-8bb6-395c0e602b96",
   "metadata": {},
   "outputs": [],
   "source": [
    "sec_a = np.array([75,65,73,68,72,76])\n",
    "sec_b = np.array([90,47,43,96,93,51]) \n",
    "no = np.array([1,2,3,4,5,6])\n",
    "mn=np.mean(sec_b)"
   ]
  },
  {
   "cell_type": "code",
   "execution_count": 24,
   "id": "730fc74d-2f56-45dd-b2ce-96c7062cb25b",
   "metadata": {},
   "outputs": [
    {
     "name": "stdout",
     "output_type": "stream",
     "text": [
      "3.8333333333333335\n",
      "23.0\n"
     ]
    }
   ],
   "source": [
    "mad_a= np.sum(np.abs(sec_a-mn))/len(sec_a)\n",
    "mad_b= np.sum(np.abs(sec_b-mn))/len(sec_b)\n",
    "print(mad_a)\n",
    "print(mad_b)"
   ]
  },
  {
   "cell_type": "code",
   "execution_count": 21,
   "id": "b5aeff0b-a5de-4e42-a5a0-185274c31341",
   "metadata": {},
   "outputs": [
    {
     "data": {
      "image/png": "[encoded data removed]",
      "text/plain": [
       "<Figure size 640x480 with 1 Axes>"
      ]
     },
     "metadata": {},
     "output_type": "display_data"
    }
   ],
   "source": [
    "plt.scatter(sec_a,no)\n",
    "plt.scatter(sec_b,no)\n",
    "plt.plot([70,70,70,70,70,70],no,c=\"red\",label=\"mean\")\n",
    "plt.show()"
   ]
  },
  {
   "cell_type": "code",
   "execution_count": null,
   "id": "fd7047bd-4816-4ee7-9953-671fdd541e5e",
   "metadata": {},
   "outputs": [],
   "source": []
  },
  {
   "cell_type": "code",
   "execution_count": null,
   "id": "9c6dc6f8-7f96-4c65-b390-ec9091560c9f",
   "metadata": {},
   "outputs": [],
   "source": []
  },
  {
   "cell_type": "code",
   "execution_count": null,
   "id": "e97aad20-a6a5-4206-8ed1-0001f54f8eee",
   "metadata": {},
   "outputs": [],
   "source": []
  },
  {
   "cell_type": "code",
   "execution_count": null,
   "id": "cf608002-5c04-4b9e-aa22-6fdb7d14301c",
   "metadata": {},
   "outputs": [],
   "source": []
  }
 ],
 "metadata": {
  "kernelspec": {
   "display_name": "Python 3 (ipykernel)",
   "language": "python",
   "name": "python3"
  },
  "language_info": {
   "codemirror_mode": {
    "name": "ipython",
    "version": 3
   },
   "file_extension": ".py",
   "mimetype": "text/x-python",
   "name": "python",
   "nbconvert_exporter": "python",
   "pygments_lexer": "ipython3",
   "version": "3.12.7"
  }
 },
 "nbformat": 4,
 "nbformat_minor": 5
}
