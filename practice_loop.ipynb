{
 "cells": [
  {
   "cell_type": "code",
   "execution_count": 9,
   "id": "bb9ee54a-21fb-4953-9f1e-5cc3d1f56e47",
   "metadata": {},
   "outputs": [
    {
     "name": "stdout",
     "output_type": "stream",
     "text": [
      "2 4 6 8 10 12 14 16 18 20 22 24 26 28 30 32 34 36 38 40 42 44 46 48 50 \n",
      "\n",
      "2 4 6 8 10 12 14 16 18 20 22 24 26 28 30 32 34 36 38 40 42 44 46 48 "
     ]
    }
   ],
   "source": [
    "#Print even numbers from 1 to 50\n",
    "for i in range(2, 51, 2):\n",
    "    print(i, end=' ')\n",
    "\n",
    "print(\"\\n\")\n",
    "for i in range(1, 50):\n",
    "    if(i%2==0):\n",
    "        print(i, end = ' ')        "
   ]
  },
  {
   "cell_type": "code",
   "execution_count": 18,
   "id": "1aed269f-af61-4855-b0e8-fd66201307f8",
   "metadata": {},
   "outputs": [
    {
     "name": "stdin",
     "output_type": "stream",
     "text": [
      "enter the number : 12\n"
     ]
    },
    {
     "name": "stdout",
     "output_type": "stream",
     "text": [
      "2\n"
     ]
    }
   ],
   "source": [
    "#Count the number of digits in an integer\n",
    "\n",
    "num = int(input(\"enter the number :\"))\n",
    "count = 0           \n",
    "         \n",
    "while (num > 0):\n",
    "    num //= 10\n",
    "    count = count + 1\n",
    "print(count)          "
   ]
  },
  {
   "cell_type": "code",
   "execution_count": 41,
   "id": "74a7e295-a999-4c7a-940c-7a908917daa5",
   "metadata": {},
   "outputs": [
    {
     "name": "stdout",
     "output_type": "stream",
     "text": [
      "*\n",
      "**\n",
      "***\n",
      "1\n",
      "22\n",
      "333\n"
     ]
    }
   ],
   "source": [
    "\n",
    "#pattern right angle\n",
    "rows = 3\n",
    "for i in range(1,rows+1):\n",
    "    print(i* \"*\")\n",
    "    \n",
    "    \n",
    "for i in range(1, rows + 1):\n",
    "    for j in range(1, i + 1):\n",
    "        print(i, end=\"\")\n",
    "    print()    \n",
    "         "
   ]
  },
  {
   "cell_type": "code",
   "execution_count": 52,
   "id": "6232fd47-13c9-4c40-bbc8-d5f1b8eda93e",
   "metadata": {},
   "outputs": [
    {
     "name": "stdout",
     "output_type": "stream",
     "text": [
      "131\n"
     ]
    }
   ],
   "source": [
    "# palindrome num\n",
    "\n",
    "num = 131\n",
    "\n",
    "original = num\n",
    "reversed = 0\n",
    "while(num> 0):\n",
    "    digit = num % 10\n",
    "    reversed = reversed * 10 + digit\n",
    "    num = num // 10    \n",
    "    \n",
    "print(reversed)"
   ]
  },
  {
   "cell_type": "code",
   "execution_count": 58,
   "id": "3066e1f8-ae10-444d-b942-1ba0d9b051b2",
   "metadata": {},
   "outputs": [
    {
     "name": "stdin",
     "output_type": "stream",
     "text": [
      "enter the num: 3\n"
     ]
    },
    {
     "name": "stdout",
     "output_type": "stream",
     "text": [
      "6\n"
     ]
    }
   ],
   "source": [
    "### factorial \n",
    "\n",
    "num = int(input(\"enter the num:\"))\n",
    "factorial = 1\n",
    "for i in range(1 , num+1):\n",
    "    factorial = factorial * i\n",
    "print(factorial)"
   ]
  },
  {
   "cell_type": "code",
   "execution_count": null,
   "id": "4c7495b3-663f-49ad-b08b-9e64d3eaa38f",
   "metadata": {},
   "outputs": [],
   "source": [
    "# reversed the num\n",
    "\n",
    "num = 123\n",
    "reversed = 0 \n",
    "\n",
    "while(num>0):\n",
    "    digit = num % 10 \n",
    "    reversed = reversed *10 + digit\n",
    "    num = num//10\n",
    "print(reversed)    \n",
    "    "
   ]
  },
  {
   "cell_type": "code",
   "execution_count": null,
   "id": "acf95950-150c-45a1-863c-10c1114a7d55",
   "metadata": {},
   "outputs": [],
   "source": [
    "#Sum of digits of a number\n",
    "\n",
    "num = 123\n",
    "\n",
    "for i in range(len(str(num))):\n",
    "    sum = sum + num[i]\n",
    "print(sum)"
   ]
  },
  {
   "cell_type": "code",
   "execution_count": null,
   "id": "7194855c-36c7-4cd6-b0c7-fbc8cd89fc7e",
   "metadata": {},
   "outputs": [],
   "source": [
    "num = int(input(\"entwe thw num :\"))\n",
    "while(i<=10):\n",
    "    print(f \"{num} X {i} = \", num*i} \n"
   ]
  },
  {
   "cell_type": "code",
   "execution_count": null,
   "id": "470511eb-7b52-49c2-ae92-25df3e13a25e",
   "metadata": {},
   "outputs": [],
   "source": [
    "dir(list)"
   ]
  },
  {
   "cell_type": "code",
   "execution_count": 15,
   "id": "6efacaf6-f179-4f0c-9227-138f4c1b15b3",
   "metadata": {},
   "outputs": [
    {
     "name": "stdout",
     "output_type": "stream",
     "text": [
      "{'alpha': 22, 'num': 12, 'spec': 6}\n"
     ]
    }
   ],
   "source": [
    "str1 = 'abubiadgbuagdik23164896@#$%$%5464ajvhysv'\n",
    "\n",
    "\n",
    "\n",
    "dict_count ={\"alpha\": 0,'num':0,'spec':0}\n",
    "\n",
    "for i in str1:\n",
    "    if i.isalpha():\n",
    "     dict_count[\"alpha\"]+=1\n",
    "    elif i.isnumeric():\n",
    "        dict_count[\"num\"]+=1\n",
    "\n",
    "    else:\n",
    "        dict_count[\"spec\"]+=1\n",
    "      \n",
    "\n",
    "\n",
    "\n",
    "print(dict_count)\n",
    "        \n",
    "        \n",
    "        \n",
    "        \n",
    "        \n",
    "            \n",
    "        "
   ]
  },
  {
   "cell_type": "code",
   "execution_count": 30,
   "id": "7e2c99b1-eaed-49c4-95d1-3451fbd2efbb",
   "metadata": {},
   "outputs": [
    {
     "name": "stdout",
     "output_type": "stream",
     "text": [
      "['hello,', 'world!', 'this', 'is', 'python.']\n"
     ]
    }
   ],
   "source": [
    "text = \"Hello, world! This is Python.\"\n",
    "nx=text.lower().split()\n",
    "print(nx)\n"
   ]
  },
  {
   "cell_type": "code",
   "execution_count": 31,
   "id": "e66dac99-9e03-43db-8a0f-fb09fde72aa3",
   "metadata": {},
   "outputs": [
    {
     "name": "stdout",
     "output_type": "stream",
     "text": [
      "['Tanmay', 'tanny', 'vaibhav']\n"
     ]
    }
   ],
   "source": [
    "lst=['Tanmay@gmail.com','tanny@yahoo','vaibhav@gmail']\n",
    "new=[]\n",
    "for i in lst:\n",
    "    a=i.split('@')\n",
    "    new.append(a[0])\n",
    "\n",
    "print(new)"
   ]
  },
  {
   "cell_type": "code",
   "execution_count": null,
   "id": "a727e767-6b9b-45b2-a3ff-0063eed9efb1",
   "metadata": {},
   "outputs": [],
   "source": []
  }
 ],
 "metadata": {
  "kernelspec": {
   "display_name": "Python 3 (ipykernel)",
   "language": "python",
   "name": "python3"
  },
  "language_info": {
   "codemirror_mode": {
    "name": "ipython",
    "version": 3
   },
   "file_extension": ".py",
   "mimetype": "text/x-python",
   "name": "python",
   "nbconvert_exporter": "python",
   "pygments_lexer": "ipython3",
   "version": "3.12.7"
  }
 },
 "nbformat": 4,
 "nbformat_minor": 5
}
