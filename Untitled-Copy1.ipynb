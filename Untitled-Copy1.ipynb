{
 "cells": [
  {
   "cell_type": "code",
   "execution_count": 9,
   "id": "bb9ee54a-21fb-4953-9f1e-5cc3d1f56e47",
   "metadata": {},
   "outputs": [
    {
     "name": "stdout",
     "output_type": "stream",
     "text": [
      "2 4 6 8 10 12 14 16 18 20 22 24 26 28 30 32 34 36 38 40 42 44 46 48 50 \n",
      "\n",
      "2 4 6 8 10 12 14 16 18 20 22 24 26 28 30 32 34 36 38 40 42 44 46 48 "
     ]
    }
   ],
   "source": [
    "#Print even numbers from 1 to 50\n",
    "for i in range(2, 51, 2):\n",
    "    print(i, end=' ')\n",
    "\n",
    "print(\"\\n\")\n",
    "for i in range(1, 50):\n",
    "    if(i%2==0):\n",
    "        print(i, end = ' ')        "
   ]
  },
  {
   "cell_type": "code",
   "execution_count": 18,
   "id": "1aed269f-af61-4855-b0e8-fd66201307f8",
   "metadata": {},
   "outputs": [
    {
     "name": "stdin",
     "output_type": "stream",
     "text": [
      "enter the number : 12\n"
     ]
    },
    {
     "name": "stdout",
     "output_type": "stream",
     "text": [
      "2\n"
     ]
    }
   ],
   "source": [
    "#Count the number of digits in an integer\n",
    "\n",
    "num = int(input(\"enter the number :\"))\n",
    "count = 0           \n",
    "         \n",
    "while (num > 0):\n",
    "    num //= 10\n",
    "    count = count + 1\n",
    "print(count)          "
   ]
  },
  {
   "cell_type": "code",
   "execution_count": 5,
   "id": "74a7e295-a999-4c7a-940c-7a908917daa5",
   "metadata": {},
   "outputs": [
    {
     "name": "stdout",
     "output_type": "stream",
     "text": [
      "20 10\n"
     ]
    }
   ],
   "source": [
    "a=10\n",
    "b=20\n",
    "a=a+b\n",
    "b=a-b\n",
    "a=a-b\n",
    "\n",
    "print(a,b)"
   ]
  },
  {
   "cell_type": "markdown",
   "id": "4262ef50-81b0-4145-8b69-d57449dcfe73",
   "metadata": {},
   "source": [
    "\n",
    "\n",
    "###### "
   ]
  },
  {
   "cell_type": "code",
   "execution_count": null,
   "id": "544ba4aa-7c44-412e-902c-2896d5b4b0a3",
   "metadata": {},
   "outputs": [],
   "source": []
  },
  {
   "cell_type": "code",
   "execution_count": 9,
   "id": "d8bed2d0-4383-4129-b45b-57270d5bce31",
   "metadata": {},
   "outputs": [
    {
     "name": "stdout",
     "output_type": "stream",
     "text": [
      "vaibhav tanmay\n"
     ]
    }
   ],
   "source": [
    "x = \"tanmay\"\n",
    "y=\"vaibhav\"\n",
    "x,y = y,x\n",
    "\n",
    "\n",
    "print(x,y)"
   ]
  },
  {
   "cell_type": "code",
   "execution_count": null,
   "id": "d841a476-3c73-49a4-97ad-34f6b6f76414",
   "metadata": {},
   "outputs": [],
   "source": []
  }
 ],
 "metadata": {
  "kernelspec": {
   "display_name": "Python 3 (ipykernel)",
   "language": "python",
   "name": "python3"
  },
  "language_info": {
   "codemirror_mode": {
    "name": "ipython",
    "version": 3
   },
   "file_extension": ".py",
   "mimetype": "text/x-python",
   "name": "python",
   "nbconvert_exporter": "python",
   "pygments_lexer": "ipython3",
   "version": "3.12.7"
  }
 },
 "nbformat": 4,
 "nbformat_minor": 5
}
