{
 "cells": [
  {
   "cell_type": "code",
   "execution_count": 1,
   "id": "362ff5f8-ff8c-4f09-bc2e-25f49a7b782c",
   "metadata": {},
   "outputs": [],
   "source": [
    "temp = (lambda x,y : x+y)(100,200)"
   ]
  },
  {
   "cell_type": "code",
   "execution_count": 2,
   "id": "c0e63882-03cd-4efb-a460-32b15d8c87b0",
   "metadata": {},
   "outputs": [
    {
     "data": {
      "text/plain": [
       "300"
      ]
     },
     "execution_count": 2,
     "metadata": {},
     "output_type": "execute_result"
    }
   ],
   "source": [
    "temp"
   ]
  },
  {
   "cell_type": "code",
   "execution_count": 4,
   "id": "03db93e3-8ed9-44a5-a4b0-e806d830880e",
   "metadata": {},
   "outputs": [],
   "source": [
    "p = [2,7,3,7,7,5,8]"
   ]
  },
  {
   "cell_type": "code",
   "execution_count": null,
   "id": "6d376100-5330-4802-b276-cb31b13610e4",
   "metadata": {},
   "outputs": [],
   "source": [
    "[4,49,9,49,...]"
   ]
  },
  {
   "cell_type": "code",
   "execution_count": 5,
   "id": "739cba30-66b5-4a40-b8dd-2a34ffadee4f",
   "metadata": {},
   "outputs": [
    {
     "name": "stdout",
     "output_type": "stream",
     "text": [
      "[4, 49, 9, 49, 49, 25, 64]\n"
     ]
    }
   ],
   "source": [
    "sqr_list = []\n",
    "for i in p:\n",
    "    sqr_list.append(i**2)\n",
    "print(sqr_list)"
   ]
  },
  {
   "cell_type": "code",
   "execution_count": 10,
   "id": "6dff6195-e6bd-4408-a2af-2107870a4dae",
   "metadata": {},
   "outputs": [
    {
     "data": {
      "text/plain": [
       "[4, 49, 9, 49, 49, 25, 64]"
      ]
     },
     "execution_count": 10,
     "metadata": {},
     "output_type": "execute_result"
    }
   ],
   "source": [
    "def sqr_element(num):\n",
    "    return num**2\n",
    "list(map(sqr_element,p))"
   ]
  },
  {
   "cell_type": "code",
   "execution_count": 11,
   "id": "eb542683-b388-4077-ac41-bdf7e7c03313",
   "metadata": {},
   "outputs": [
    {
     "data": {
      "text/plain": [
       "[4, 49, 9, 49, 49, 25, 64]"
      ]
     },
     "execution_count": 11,
     "metadata": {},
     "output_type": "execute_result"
    }
   ],
   "source": [
    "list(map(lambda x: x**2,p))"
   ]
  },
  {
   "cell_type": "code",
   "execution_count": 12,
   "id": "b8cfaff2-381e-4a4d-bed3-1f1f577c8941",
   "metadata": {},
   "outputs": [],
   "source": [
    "emails = ['test@gmail.com','sample@rediffmail.com','sample@gmail.com','test@gmail.com']"
   ]
  },
  {
   "cell_type": "code",
   "execution_count": 13,
   "id": "c4189b9e-b142-49ef-80b8-46baf722913c",
   "metadata": {},
   "outputs": [
    {
     "data": {
      "text/plain": [
       "['test', 'sample', 'sample', 'test']"
      ]
     },
     "execution_count": 13,
     "metadata": {},
     "output_type": "execute_result"
    }
   ],
   "source": [
    "list(map(lambda x: x.split('@')[0],emails))"
   ]
  },
  {
   "cell_type": "code",
   "execution_count": 14,
   "id": "24015824-d84d-4610-a8bd-81a07c3bf8b2",
   "metadata": {},
   "outputs": [],
   "source": [
    "dates = ['01-05-2021','04-10-2023','03-06-2025']"
   ]
  },
  {
   "cell_type": "code",
   "execution_count": null,
   "id": "56a15db1-262a-40e3-b0c7-983b73579f32",
   "metadata": {},
   "outputs": [],
   "source": [
    "['01-May-2021','04-Oct-2023','03-June-2025']"
   ]
  },
  {
   "cell_type": "code",
   "execution_count": 15,
   "id": "4d6a9116-0b06-4f39-a579-cda3e2a23352",
   "metadata": {},
   "outputs": [],
   "source": [
    "def Get_Month_From_Num(num):\n",
    "    if num.split('-')[1]=='05':\n",
    "        return '{}-{}-{}'.format(num.split('-')[0],'May',num.split('-')[-1])\n",
    "    elif num.split('-')[1]=='10':\n",
    "        return '{}-{}-{}'.format(num.split('-')[0],'Oct',num.split('-')[-1])\n",
    "    elif num.split('-')[1]=='06':\n",
    "        return '{}-{}-{}'.format(num.split('-')[0],'June',num.split('-')[-1])\n",
    "    else:\n",
    "        return 'invalid'\n",
    "        \n",
    "                                "
   ]
  },
  {
   "cell_type": "code",
   "execution_count": 16,
   "id": "3f7d0a8f-6b19-4ba0-8d28-1bc3205f4fca",
   "metadata": {},
   "outputs": [
    {
     "data": {
      "text/plain": [
       "['01-May-2021', '04-Oct-2023', '03-June-2025']"
      ]
     },
     "execution_count": 16,
     "metadata": {},
     "output_type": "execute_result"
    }
   ],
   "source": [
    "list(map(Get_Month_From_Num,dates))"
   ]
  },
  {
   "cell_type": "code",
   "execution_count": 17,
   "id": "19cfa78d-5f14-41f9-bdb5-2589791fb591",
   "metadata": {},
   "outputs": [],
   "source": [
    "import calendar"
   ]
  },
  {
   "cell_type": "code",
   "execution_count": 26,
   "id": "7e9d59c6-b4e2-44d2-b08e-03ef55d6ce08",
   "metadata": {},
   "outputs": [
    {
     "data": {
      "text/plain": [
       "'May'"
      ]
     },
     "execution_count": 26,
     "metadata": {},
     "output_type": "execute_result"
    }
   ],
   "source": [
    "calendar.month_name[5]"
   ]
  },
  {
   "cell_type": "code",
   "execution_count": 27,
   "id": "3ede9a43-5406-44a4-9f55-c2c58ba43645",
   "metadata": {},
   "outputs": [
    {
     "data": {
      "text/plain": [
       "5"
      ]
     },
     "execution_count": 27,
     "metadata": {},
     "output_type": "execute_result"
    }
   ],
   "source": []
  },
  {
   "cell_type": "code",
   "execution_count": 32,
   "id": "52e808c9-e3b9-4fcf-88a2-93c8f6107c6d",
   "metadata": {},
   "outputs": [],
   "source": [
    "def Get_Month_From_Num(num):\n",
    "    n = num.split('-')[1]\n",
    "    return '{}-{}-{}'.format(num.split('-')[0],calendar.month_abbr[int(n)],num.split('-')[-1])\n",
    "    "
   ]
  },
  {
   "cell_type": "code",
   "execution_count": 34,
   "id": "508ec586-ba56-4294-b23d-fb0736d6e260",
   "metadata": {},
   "outputs": [
    {
     "data": {
      "text/plain": [
       "['01-May-2021', '04-Oct-2023', '03-Jun-2025']"
      ]
     },
     "execution_count": 34,
     "metadata": {},
     "output_type": "execute_result"
    }
   ],
   "source": [
    "list(map(Get_Month_From_Num,dates))"
   ]
  },
  {
   "cell_type": "code",
   "execution_count": 37,
   "id": "127a493e-f6c4-44dd-8681-25e0fc7ea0c3",
   "metadata": {},
   "outputs": [
    {
     "data": {
      "text/plain": [
       "['01-May-2021', '04-Oct-2023', '03-Jun-2025']"
      ]
     },
     "execution_count": 37,
     "metadata": {},
     "output_type": "execute_result"
    }
   ],
   "source": [
    "list(map(lambda num: '{}-{}-{}'.format(num.split('-')[0],calendar.month_abbr[int(num.split('-')[1])],num.split('-')[-1]),dates))"
   ]
  },
  {
   "cell_type": "code",
   "execution_count": 38,
   "id": "82582cf0-7c9b-4474-bc2a-3e6c974d1be2",
   "metadata": {},
   "outputs": [],
   "source": [
    "p = [1,0,0,0,1,1,1,1,1,0,0]"
   ]
  },
  {
   "cell_type": "code",
   "execution_count": 40,
   "id": "56112d0f-0a42-445e-8547-af4622f8df9b",
   "metadata": {},
   "outputs": [],
   "source": [
    "def gen_encode(gen):\n",
    "    if gen==1:\n",
    "        return 'M'\n",
    "    else:\n",
    "        return 'F'"
   ]
  },
  {
   "cell_type": "code",
   "execution_count": 41,
   "id": "6ec37e07-00b6-4cfa-b5a6-7ac17abe3a34",
   "metadata": {},
   "outputs": [
    {
     "data": {
      "text/plain": [
       "['M', 'F', 'F', 'F', 'M', 'M', 'M', 'M', 'M', 'F', 'F']"
      ]
     },
     "execution_count": 41,
     "metadata": {},
     "output_type": "execute_result"
    }
   ],
   "source": [
    "list(map(gen_encode,p))"
   ]
  },
  {
   "cell_type": "code",
   "execution_count": 43,
   "id": "7328eff2-f464-4e4a-92df-eabdafbf175e",
   "metadata": {},
   "outputs": [
    {
     "data": {
      "text/plain": [
       "['M', 'F', 'F', 'F', 'M', 'M', 'M', 'M', 'M', 'F', 'F']"
      ]
     },
     "execution_count": 43,
     "metadata": {},
     "output_type": "execute_result"
    }
   ],
   "source": [
    "list(map(lambda x: 'M' if x==1 else 'F',p))"
   ]
  },
  {
   "cell_type": "code",
   "execution_count": null,
   "id": "5f60dd1f-1fe7-4fac-9cb3-f478e2a5555e",
   "metadata": {},
   "outputs": [],
   "source": [
    "pune - 100\n",
    "mumbai -200\n",
    "chennai - 500\n",
    "banglore - 400"
   ]
  },
  {
   "cell_type": "code",
   "execution_count": 44,
   "id": "53b0c914-4a3f-46bd-9a6a-e6d12604da51",
   "metadata": {},
   "outputs": [],
   "source": [
    "city = ['pune','pune','mumbai','mumbai','chennai','banglore','chennai']"
   ]
  },
  {
   "cell_type": "code",
   "execution_count": 46,
   "id": "09cf69dc-703c-430a-aa26-0103636bc0b5",
   "metadata": {},
   "outputs": [
    {
     "data": {
      "text/plain": [
       "[{'pune': 100}, {'pune': 100}, 200, 200, 500, 400, 500]"
      ]
     },
     "execution_count": 46,
     "metadata": {},
     "output_type": "execute_result"
    }
   ],
   "source": [
    "list(map(lambda x: {x: 100} if x=='pune' else 200 if x=='mumbai' else 500 if x=='chennai' else 400 if x=='banglore' else 'invalid',city))"
   ]
  },
  {
   "cell_type": "code",
   "execution_count": null,
   "id": "2f51641c-a490-48a1-8058-6df7916c8d90",
   "metadata": {},
   "outputs": [],
   "source": [
    "filter:\n",
    "\n",
    "filter(function,seq/DS)\n"
   ]
  },
  {
   "cell_type": "code",
   "execution_count": 47,
   "id": "a9d2affe-69e6-4d39-bb18-c1769420f3b3",
   "metadata": {},
   "outputs": [],
   "source": [
    "p = [2,65,23,6,23,6,3,457,4,65,4,75,6]"
   ]
  },
  {
   "cell_type": "code",
   "execution_count": 48,
   "id": "eea9d88d-1c7f-4690-bc12-3db9fdb82412",
   "metadata": {},
   "outputs": [
    {
     "data": {
      "text/plain": [
       "[2, 6, 6, 4, 4, 6]"
      ]
     },
     "execution_count": 48,
     "metadata": {},
     "output_type": "execute_result"
    }
   ],
   "source": [
    "list(filter(lambda x: x%2==0,p))\n"
   ]
  },
  {
   "cell_type": "code",
   "execution_count": 49,
   "id": "0e822d12-a09d-4a9f-a62a-e4d421f971ed",
   "metadata": {},
   "outputs": [
    {
     "data": {
      "text/plain": [
       "[True,\n",
       " False,\n",
       " False,\n",
       " True,\n",
       " False,\n",
       " True,\n",
       " False,\n",
       " False,\n",
       " True,\n",
       " False,\n",
       " True,\n",
       " False,\n",
       " True]"
      ]
     },
     "execution_count": 49,
     "metadata": {},
     "output_type": "execute_result"
    }
   ],
   "source": [
    "list(map(lambda x: x%2==0,p))"
   ]
  },
  {
   "cell_type": "code",
   "execution_count": null,
   "id": "b359ce52-e332-41eb-a9e4-44d97ae33e0b",
   "metadata": {},
   "outputs": [],
   "source": [
    "date =[]"
   ]
  },
  {
   "cell_type": "code",
   "execution_count": 50,
   "id": "53dc6c46-2fda-4b79-a2fa-12bf14ea4edc",
   "metadata": {},
   "outputs": [
    {
     "data": {
      "text/plain": [
       "['test@gmail.com',\n",
       " 'sample@rediffmail.com',\n",
       " 'sample@gmail.com',\n",
       " 'test@gmail.com']"
      ]
     },
     "execution_count": 50,
     "metadata": {},
     "output_type": "execute_result"
    }
   ],
   "source": [
    "emails"
   ]
  },
  {
   "cell_type": "code",
   "execution_count": 51,
   "id": "ffdebec7-ad36-499e-ba7a-b83212c58a8f",
   "metadata": {},
   "outputs": [
    {
     "data": {
      "text/plain": [
       "['test@gmail.com', 'sample@gmail.com', 'test@gmail.com']"
      ]
     },
     "execution_count": 51,
     "metadata": {},
     "output_type": "execute_result"
    }
   ],
   "source": [
    "list(filter(lambda x: x.endswith('@gmail.com'),emails))"
   ]
  },
  {
   "cell_type": "code",
   "execution_count": null,
   "id": "542338c2-8604-479c-8b2f-f92896c5c8a1",
   "metadata": {},
   "outputs": [],
   "source": [
    "reduce:\n"
   ]
  },
  {
   "cell_type": "code",
   "execution_count": 52,
   "id": "452c0b07-c3cc-4ea4-92e2-6b89cdea58d0",
   "metadata": {},
   "outputs": [],
   "source": [
    "p = [10,34,6,34,7,45,755,6]"
   ]
  },
  {
   "cell_type": "code",
   "execution_count": 53,
   "id": "808af33b-8512-42af-af79-6699f2b0fd51",
   "metadata": {},
   "outputs": [
    {
     "data": {
      "text/plain": [
       "897"
      ]
     },
     "execution_count": 53,
     "metadata": {},
     "output_type": "execute_result"
    }
   ],
   "source": [
    "sum(p)"
   ]
  },
  {
   "cell_type": "code",
   "execution_count": 54,
   "id": "dadc81af-8f38-4c49-8238-a91fd3e9384f",
   "metadata": {},
   "outputs": [],
   "source": [
    "from functools import reduce"
   ]
  },
  {
   "cell_type": "code",
   "execution_count": 55,
   "id": "b9cbfeb2-7c99-41cf-970b-32fa20afa188",
   "metadata": {},
   "outputs": [
    {
     "ename": "TypeError",
     "evalue": "'int' object is not iterable",
     "output_type": "error",
     "traceback": [
      "\u001b[1;31m---------------------------------------------------------------------------\u001b[0m",
      "\u001b[1;31mTypeError\u001b[0m                                 Traceback (most recent call last)",
      "Cell \u001b[1;32mIn[55], line 1\u001b[0m\n\u001b[1;32m----> 1\u001b[0m \u001b[38;5;28mlist\u001b[39m(reduce(\u001b[38;5;28;01mlambda\u001b[39;00m x,y: x\u001b[38;5;241m+\u001b[39my,p))\n",
      "\u001b[1;31mTypeError\u001b[0m: 'int' object is not iterable"
     ]
    }
   ],
   "source": [
    "list(reduce(lambda x,y: x+y,p))"
   ]
  },
  {
   "cell_type": "code",
   "execution_count": null,
   "id": "ff8cbebc-7bc9-4d81-8eeb-ed32d735fc94",
   "metadata": {},
   "outputs": [],
   "source": []
  }
 ],
 "metadata": {
  "kernelspec": {
   "display_name": "Python 3 (ipykernel)",
   "language": "python",
   "name": "python3"
  },
  "language_info": {
   "codemirror_mode": {
    "name": "ipython",
    "version": 3
   },
   "file_extension": ".py",
   "mimetype": "text/x-python",
   "name": "python",
   "nbconvert_exporter": "python",
   "pygments_lexer": "ipython3",
   "version": "3.13.5"
  },
  "widgets": {
   "application/vnd.jupyter.widget-state+json": {
    "state": {},
    "version_major": 2,
    "version_minor": 0
   }
  }
 },
 "nbformat": 4,
 "nbformat_minor": 5
}
