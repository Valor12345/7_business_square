{
 "cells": [
  {
   "cell_type": "code",
   "execution_count": 4,
   "id": "94363f55-bca1-41f9-ad8c-48b1655622f7",
   "metadata": {},
   "outputs": [
    {
     "name": "stdout",
     "output_type": "stream",
     "text": [
      "hekloo\n",
      "hekloo\n",
      "hekloo\n",
      "hekloo\n",
      "hekloo\n"
     ]
    }
   ],
   "source": [
    "for i in range(5):\n",
    "    print(\"hekloo\")\n",
    "\n",
    "\n",
    "\n"
   ]
  },
  {
   "cell_type": "code",
   "execution_count": 5,
   "id": "3bc31c14-f40e-49f9-bf99-5c521b163906",
   "metadata": {},
   "outputs": [
    {
     "name": "stdout",
     "output_type": "stream",
     "text": [
      "0\n",
      "1\n",
      "2\n",
      "3\n",
      "4\n"
     ]
    }
   ],
   "source": [
    "for i in range(5):\n",
    "    print(i)"
   ]
  },
  {
   "cell_type": "code",
   "execution_count": 3,
   "id": "69a56ec7-2f91-44b3-abc0-9cca85134bbc",
   "metadata": {},
   "outputs": [
    {
     "name": "stdout",
     "output_type": "stream",
     "text": [
      "1\n",
      "3\n",
      "5\n",
      "7\n",
      "9\n"
     ]
    }
   ],
   "source": [
    "for i in range(1, 10, 2):\n",
    "    print(i)\n",
    "# Output: 1 3 5 7 9\n"
   ]
  },
  {
   "cell_type": "code",
   "execution_count": 6,
   "id": "5da5f6da-c016-40bf-b88d-28da90d32e1a",
   "metadata": {},
   "outputs": [
    {
     "name": "stdout",
     "output_type": "stream",
     "text": [
      "H\n",
      "e\n",
      "l\n",
      "l\n",
      "o\n"
     ]
    }
   ],
   "source": [
    "for char in \"Hello\":\n",
    "    print(char)\n"
   ]
  },
  {
   "cell_type": "code",
   "execution_count": 7,
   "id": "98b9299f-8f28-4f61-a429-e6cb99cf3cf2",
   "metadata": {},
   "outputs": [
    {
     "name": "stdout",
     "output_type": "stream",
     "text": [
      "10\n",
      "20\n",
      "30\n"
     ]
    }
   ],
   "source": [
    "# loop through tuple\n",
    "nums = (10, 20, 30)\n",
    "for num in nums:\n",
    "    print(num)\n"
   ]
  },
  {
   "cell_type": "code",
   "execution_count": 8,
   "id": "94267174-49e3-435b-ac28-10058e3b5a66",
   "metadata": {},
   "outputs": [
    {
     "name": "stdout",
     "output_type": "stream",
     "text": [
      "apple\n",
      "banana\n",
      "cherry\n"
     ]
    }
   ],
   "source": [
    "# loop through list\n",
    "fruits = ['apple', 'banana', 'cherry']\n",
    "for fruit in fruits:\n",
    "    print(fruit)"
   ]
  },
  {
   "cell_type": "code",
   "execution_count": 17,
   "id": "a6e78b17-b0df-4339-b1db-a0bacc2cb3d6",
   "metadata": {},
   "outputs": [
    {
     "name": "stdout",
     "output_type": "stream",
     "text": [
      "name : Alice\n",
      "age : 20\n",
      "\n",
      "\n",
      "name => Alice\n",
      "age => 20\n"
     ]
    }
   ],
   "source": [
    "# loop through dict\n",
    "student = {'name': 'Alice', 'age': 20}\n",
    "for key in student:\n",
    "    print(key, \":\", student[key])\n",
    "\n",
    "\n",
    "print(\"\\n\")\n",
    "\n",
    "\n",
    "# OR\n",
    "for key, value in student.items():\n",
    "    print(key, \"=>\", value)\n"
   ]
  },
  {
   "cell_type": "code",
   "execution_count": 10,
   "id": "aaab3a11-f316-4229-ad71-9d2e2f698e48",
   "metadata": {},
   "outputs": [
    {
     "name": "stdout",
     "output_type": "stream",
     "text": [
      "0 red\n",
      "1 green\n",
      "2 blue\n"
     ]
    }
   ],
   "source": [
    "colors = ['red', 'green', 'blue']\n",
    "for index, color in enumerate(colors):\n",
    "    print(index, color)\n"
   ]
  },
  {
   "cell_type": "code",
   "execution_count": 11,
   "id": "1188189a-2bbe-4d67-8932-c756e8f0b0ac",
   "metadata": {},
   "outputs": [
    {
     "name": "stdout",
     "output_type": "stream",
     "text": [
      "Alice 85\n",
      "Bob 90\n"
     ]
    }
   ],
   "source": [
    "#Using zip() to loop over multiple list\n",
    "\n",
    "names = ['Alice', 'Bob']\n",
    "scores = [85, 90]\n",
    "\n",
    "for name, score in zip(names, scores):\n",
    "    print(name, score)\n"
   ]
  },
  {
   "cell_type": "code",
   "execution_count": 12,
   "id": "da679bdb-b51e-4e40-9d1c-274cd5c72ccf",
   "metadata": {},
   "outputs": [
    {
     "name": "stdout",
     "output_type": "stream",
     "text": [
      "i=0, j=0\n",
      "i=0, j=1\n",
      "i=1, j=0\n",
      "i=1, j=1\n",
      "i=2, j=0\n",
      "i=2, j=1\n"
     ]
    }
   ],
   "source": [
    "# nested\n",
    "for i in range(3):\n",
    "    for j in range(2):\n",
    "        print(f\"i={i}, j={j}\")\n"
   ]
  },
  {
   "cell_type": "code",
   "execution_count": 16,
   "id": "19d9daac-440b-444e-9f55-2dfc9a6b903b",
   "metadata": {},
   "outputs": [
    {
     "name": "stdout",
     "output_type": "stream",
     "text": [
      "0\n",
      "1\n",
      "2\n",
      "\n",
      "\n",
      "0\n",
      "1\n",
      "2\n",
      "4\n"
     ]
    }
   ],
   "source": [
    "# Loop with break and continue\n",
    "\n",
    "\n",
    "for i in range(5):\n",
    "    if i == 3:\n",
    "        break\n",
    "    print(i)\n",
    "print(\"\\n\")\n",
    "\n",
    "for i in range(5):\n",
    "    if i == 3:\n",
    "        continue\n",
    "    print(i)\n"
   ]
  },
  {
   "cell_type": "code",
   "execution_count": 23,
   "id": "41fb2220-4a8d-4b5e-a2c4-cbcc39ec2c6c",
   "metadata": {},
   "outputs": [
    {
     "name": "stdout",
     "output_type": "stream",
     "text": [
      "1\n",
      "2\n",
      "3\n",
      "4\n",
      "5\n",
      "6\n",
      "7\n",
      "8\n",
      "9\n",
      "10\n"
     ]
    }
   ],
   "source": [
    "i = 1\n",
    "while(i<=10):\n",
    "    print(i)\n",
    "    i+=1"
   ]
  },
  {
   "cell_type": "code",
   "execution_count": 43,
   "id": "aa65ebef-2350-42f6-a6f5-88d2ec08ace6",
   "metadata": {},
   "outputs": [
    {
     "name": "stdout",
     "output_type": "stream",
     "text": [
      "2\n",
      "3\n",
      "5\n",
      "7\n",
      "11\n",
      "13\n",
      "17\n",
      "19\n",
      "23\n",
      "29\n",
      "31\n",
      "37\n",
      "41\n",
      "43\n",
      "47\n"
     ]
    }
   ],
   "source": [
    "#Print all prime numbers between 1 and 50\n",
    "\n",
    "for num in range(2,50):\n",
    "    for i in range(2 , num):\n",
    "        if(num % i ==0):\n",
    "            break\n",
    "            \n",
    "    else:\n",
    "        print(num)\n",
    "        \n",
    "\n",
    "    \n",
    "    \n"
   ]
  },
  {
   "cell_type": "code",
   "execution_count": 2,
   "id": "2b01dcf2-ea57-411a-b15f-17ab4c92ed02",
   "metadata": {},
   "outputs": [],
   "source": [
    "# palindrome\n",
    "\n",
    "for i in range(1 , 50):\n",
    "    pass"
   ]
  },
  {
   "cell_type": "code",
   "execution_count": 6,
   "id": "2168f402-785e-4b3a-afb7-3b4e5ebee439",
   "metadata": {},
   "outputs": [
    {
     "name": "stdout",
     "output_type": "stream",
     "text": [
      "[6, 4, 6, 7]\n"
     ]
    }
   ],
   "source": [
    "# length in list\n",
    "p = ['python','java','hadoop','pyspark']\n",
    "p1=[]\n",
    "for i in p:\n",
    "    p1.append(len(i))\n",
    "print(p1)    \n",
    "\n",
    "    "
   ]
  },
  {
   "cell_type": "code",
   "execution_count": 7,
   "id": "7d8c9b41-c53a-4007-9894-8d39e4278d51",
   "metadata": {},
   "outputs": [
    {
     "name": "stdout",
     "output_type": "stream",
     "text": [
      "['copper.csv', 'silver.csv']\n"
     ]
    }
   ],
   "source": [
    "# store csv files seperately\n",
    "files = ['test.pdf','copper.csv','silver.csv']\n",
    "file_csv = []\n",
    "for file in files:\n",
    "    if file.endswith('.csv'):\n",
    "        file_csv.append(file)\n",
    "\n",
    "print(file_csv)\n",
    "       \n"
   ]
  },
  {
   "cell_type": "code",
   "execution_count": 10,
   "id": "6542833f-6c20-4883-89e5-200c153cd011",
   "metadata": {},
   "outputs": [
    {
     "name": "stdout",
     "output_type": "stream",
     "text": [
      "[5435, 7865, 345, 756, 6, 7867, 43, 56, 5687, 6548, 45, 76565, 3435, 765]\n",
      "['sdgfsdgds', 'dfgdfg', 'dfgdfg', 'drfrgdg']\n"
     ]
    }
   ],
   "source": [
    "p = [5435,7865,345,756,6,7867,43,56,5687,6548,'sdgfsdgds','dfgdfg','dfgdfg','drfrgdg',45,76565,3435,765]\n",
    "valid_id=[]\n",
    "invalid_id=[]\n",
    "\n",
    "for id in p:\n",
    "    if str(id).isnumeric():   # int has no ( is.numeric) fuction it is the function of string thats why convert the int into string \n",
    "        valid_id.append(id)\n",
    "    else:\n",
    "        invalid_id.append(id)\n",
    "        \n",
    "print(valid_id)\n",
    "print(invalid_id)\n",
    "        "
   ]
  },
  {
   "cell_type": "code",
   "execution_count": 22,
   "id": "4e1ab3ae-f0bd-4882-937c-956313532a99",
   "metadata": {},
   "outputs": [
    {
     "name": "stdout",
     "output_type": "stream",
     "text": [
      "['2', '3', '4', '5', '6', '3', '2', '4', '5', '6', '7', '8', '2', '3', '4', '5', '6']\n",
      "['s', 'a', 'd', 'f', 'g', 'h', 'S', 'D', 'F', 'G', 'H', 'c', 'v', 'd', 'f', 'g', 's', 'd', 'f', 'f', 'g', 'f', 'g', 'f']\n",
      "['@', '#', '$', '%', '^', '&', '*', '@', '#', '$', '%', '^', '&', '*', '^', '%', '$', '#', '@', '%', '%', '^', '&']\n"
     ]
    }
   ],
   "source": [
    "p = '23456sadfgh@#$%^&*3245678SDFGH23456cvdfg@#$%^&*^%$#@%%^&sdffgfgf'\n",
    "num_list = []\n",
    "str_list=[]\n",
    "spc_list= []\n",
    "\n",
    "for char in p :\n",
    "    if char.isalnum():\n",
    "        if char.isnumeric():\n",
    "            num_list.append(char)\n",
    "        else:\n",
    "            str_list.append(char)\n",
    "            \n",
    "    else  :\n",
    "        spc_list.append(char)\n",
    "\n",
    "print(num_list)\n",
    "print(str_list)\n",
    "print(spc_list)\n",
    "    "
   ]
  },
  {
   "cell_type": "code",
   "execution_count": 28,
   "id": "5d25ca48-5647-4c1d-84d8-d3ca0a3cf49d",
   "metadata": {},
   "outputs": [
    {
     "name": "stdout",
     "output_type": "stream",
     "text": [
      "aaaaaabbbbbccc\n"
     ]
    }
   ],
   "source": [
    "p1 = 'aaaaaabbbbbccc'\n",
    "d1 = {}\n",
    "for char in p1.split():\n",
    "    if char in d1:\n",
    "        d1[char]+=1\n",
    "    else:\n",
    "        d1[char] = 1\n",
    "print(char)        "
   ]
  },
  {
   "cell_type": "code",
   "execution_count": 27,
   "id": "4a534b69-330d-4eb7-9b10-52eaf9478714",
   "metadata": {},
   "outputs": [
    {
     "name": "stdout",
     "output_type": "stream",
     "text": [
      "{'The': 1, 'core': 1, 'of': 1, 'extensible': 1, 'programming': 1, 'is': 1, 'defining': 1, 'functions.': 1, 'Python': 1, 'allows': 1, 'mandatory': 1, 'and': 2, 'optional': 1, 'arguments,': 2, 'keyword': 1, 'even': 1, 'arbitrary': 1, 'argument': 1, 'lists.': 1}\n"
     ]
    }
   ],
   "source": [
    "p2 = \"\"\"The core of extensible programming is defining functions. \n",
    "Python allows mandatory and optional arguments, keyword arguments, and even arbitrary argument lists.\"\"\"\n",
    "d = {}\n",
    "for key in p2.split():\n",
    "    if key in d:\n",
    "        d[key]+=1\n",
    "    else:\n",
    "        d[key]=1\n",
    "print(d)"
   ]
  },
  {
   "cell_type": "code",
   "execution_count": 30,
   "id": "5f7f4608-7fa2-4be1-9dae-6e2dc0e15398",
   "metadata": {},
   "outputs": [
    {
     "name": "stdout",
     "output_type": "stream",
     "text": [
      "0\n",
      "1\n",
      "2\n",
      "3\n",
      "4\n",
      "5\n",
      "6\n",
      "7\n",
      "8\n",
      "9\n"
     ]
    }
   ],
   "source": [
    "for i in range(0, 10):\n",
    "    print(i)"
   ]
  },
  {
   "cell_type": "code",
   "execution_count": 53,
   "id": "1fea755a-b4fd-4190-bdbb-6518efc0e67c",
   "metadata": {},
   "outputs": [
    {
     "name": "stdout",
     "output_type": "stream",
     "text": [
      "a a a a a b b b b b c c c "
     ]
    }
   ],
   "source": [
    "p1 = 'aaaaaabbbbbccc'\n",
    "for i in range(0,len(p1)):\n",
    "    print(p1[i],end = ' ' )\n",
    "    "
   ]
  },
  {
   "cell_type": "code",
   "execution_count": 51,
   "id": "5089ada5-57e0-4ba0-9b81-a10f4820eb39",
   "metadata": {},
   "outputs": [
    {
     "name": "stdout",
     "output_type": "stream",
     "text": [
      "c c c b b b b b a a a a a "
     ]
    }
   ],
   "source": [
    "p7 = 'aaaaaabbbbbccc'\n",
    "for i in range(-1,-len(p7)-1,-1):\n",
    "    print(p7[i],end = ' ' )"
   ]
  },
  {
   "cell_type": "code",
   "execution_count": 57,
   "id": "6c1ef68b-77c5-40ee-b0a4-5bdee814490d",
   "metadata": {},
   "outputs": [
    {
     "name": "stdout",
     "output_type": "stream",
     "text": [
      "a a a a a a b b b b b c c c "
     ]
    }
   ],
   "source": [
    "for i in range(0, len(p1)):\n",
    "    print(p1[i],end = ' ' )\n",
    "    "
   ]
  },
  {
   "cell_type": "code",
   "execution_count": 60,
   "id": "da11da8d-bc73-413d-95c2-91e8a861165d",
   "metadata": {},
   "outputs": [
    {
     "name": "stdin",
     "output_type": "stream",
     "text": [
      "enter the num 123\n"
     ]
    },
    {
     "name": "stdout",
     "output_type": "stream",
     "text": [
      "not armstrong\n"
     ]
    }
   ],
   "source": [
    "num = int(input(\"enter the num\"))\n",
    "n = len(str(num))\n",
    "sum = 0\n",
    "temp = num \n",
    "\n",
    "\n",
    "while (temp > 0):\n",
    "    digit = temp %10\n",
    "    sum = sum + digit ** n\n",
    "    temp = temp // 10\n",
    "\n",
    "if sum == num :\n",
    "    print(\"armstrong\")\n",
    "else:\n",
    "    print(\"not armstrong\")\n",
    "    "
   ]
  },
  {
   "cell_type": "code",
   "execution_count": null,
   "id": "7dddd5f5-edc2-4cf3-997d-572da0bf0058",
   "metadata": {},
   "outputs": [],
   "source": []
  }
 ],
 "metadata": {
  "kernelspec": {
   "display_name": "Python 3 (ipykernel)",
   "language": "python",
   "name": "python3"
  },
  "language_info": {
   "codemirror_mode": {
    "name": "ipython",
    "version": 3
   },
   "file_extension": ".py",
   "mimetype": "text/x-python",
   "name": "python",
   "nbconvert_exporter": "python",
   "pygments_lexer": "ipython3",
   "version": "3.12.7"
  }
 },
 "nbformat": 4,
 "nbformat_minor": 5
}
