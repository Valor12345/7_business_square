{
 "cells": [
  {
   "cell_type": "code",
   "execution_count": 5,
   "id": "3a72372b-ffaf-4756-a22e-8d9dd7089ae9",
   "metadata": {},
   "outputs": [
    {
     "name": "stdin",
     "output_type": "stream",
     "text": [
      "enter the string : tanmay\n"
     ]
    },
    {
     "data": {
      "text/plain": [
       "'yamnat'"
      ]
     },
     "execution_count": 5,
     "metadata": {},
     "output_type": "execute_result"
    }
   ],
   "source": [
    "str = input(\"enter the string :\")\n",
    "str[::-1]"
   ]
  },
  {
   "cell_type": "code",
   "execution_count": 12,
   "id": "a64bbd91-0cbd-40ac-8a55-147c9e09bbab",
   "metadata": {},
   "outputs": [
    {
     "name": "stdout",
     "output_type": "stream",
     "text": [
      "120\n"
     ]
    }
   ],
   "source": [
    "num = 5\n",
    "factorial = 1\n",
    "for i in range(1 , num+1):\n",
    "    factorial = factorial * int(i)\n",
    "\n",
    "print(factorial)\n",
    "    \n",
    "    "
   ]
  },
  {
   "cell_type": "code",
   "execution_count": 15,
   "id": "9afa5873-67ee-4c2c-a429-6b1a6bf7ca61",
   "metadata": {},
   "outputs": [
    {
     "name": "stdin",
     "output_type": "stream",
     "text": [
      "enter the num : 7\n"
     ]
    },
    {
     "name": "stdout",
     "output_type": "stream",
     "text": [
      "not palindrome\n"
     ]
    }
   ],
   "source": [
    "num = int(input(\"enter the num :\"))\n",
    "if (num % num == 0 and num % 1 == num):\n",
    "    print(\"palindrome\")\n",
    "else:\n",
    "    print(\"not palindrome\")\n",
    "    "
   ]
  },
  {
   "cell_type": "code",
   "execution_count": 24,
   "id": "bb9ae8b9-a476-4734-9066-a285fae63d8a",
   "metadata": {},
   "outputs": [
    {
     "name": "stdout",
     "output_type": "stream",
     "text": [
      "[1, 2, 2, 3, 5, 7, 9]\n"
     ]
    }
   ],
   "source": [
    "list1 = [5, 2, 9]\n",
    "list2 = [1, 7, 3, 2]\n",
    "\n",
    "list3 = list1 + list2\n",
    "list3.sort()\n",
    "print(list3)"
   ]
  },
  {
   "cell_type": "code",
   "execution_count": 8,
   "id": "e8340d1e-5618-477a-b633-fded7c084ab3",
   "metadata": {},
   "outputs": [
    {
     "name": "stdout",
     "output_type": "stream",
     "text": [
      "(['copper.pdf', 'silver.pdf'], ['copper.gmail'], ['silver.yahoo', 'gold.yahoo'])\n"
     ]
    }
   ],
   "source": [
    "lst = ['copper.pdf','copper.gmail','silver.pdf','silver.yahoo','gold.yahoo']\n",
    "pdf_files =[]\n",
    "gmail_files=[]\n",
    "yahoo_files=[]\n",
    "\n",
    "def files(lst):\n",
    "    for i in lst:\n",
    "        if(i.endswith('.pdf')):\n",
    "            pdf_files.append(i)\n",
    "        elif(i.endswith(\".yahoo\")):\n",
    "            yahoo_files.append(i)\n",
    "        else:\n",
    "            gmail_files.append(i)\n",
    "\n",
    "\n",
    "    return pdf_files,gmail_files,yahoo_files\n",
    "\n",
    "file = files(lst)\n",
    "\n",
    "print(file)\n",
    "\n"
   ]
  },
  {
   "cell_type": "code",
   "execution_count": 16,
   "id": "72fc9580-7608-410d-860e-6ec3e341274d",
   "metadata": {},
   "outputs": [
    {
     "name": "stdout",
     "output_type": "stream",
     "text": [
      "{'a': 2, 'r': 1, 's': 1, 'h': 1, 'd': 1}\n"
     ]
    }
   ],
   "source": [
    "a = 'arshad'\n",
    "count={}\n",
    "count=[]\n",
    "for i in a:\n",
    "    if i in count:\n",
    "        count[i]+=1\n",
    "       \n",
    "    else:\n",
    "        count[i]=1\n",
    "        \n",
    "        \n",
    "print(count )"
   ]
  },
  {
   "cell_type": "code",
   "execution_count": null,
   "id": "ed86198f-20d4-43c0-a91a-a6a81db71a8d",
   "metadata": {},
   "outputs": [],
   "source": []
  }
 ],
 "metadata": {
  "kernelspec": {
   "display_name": "Python 3 (ipykernel)",
   "language": "python",
   "name": "python3"
  },
  "language_info": {
   "codemirror_mode": {
    "name": "ipython",
    "version": 3
   },
   "file_extension": ".py",
   "mimetype": "text/x-python",
   "name": "python",
   "nbconvert_exporter": "python",
   "pygments_lexer": "ipython3",
   "version": "3.12.7"
  }
 },
 "nbformat": 4,
 "nbformat_minor": 5
}
